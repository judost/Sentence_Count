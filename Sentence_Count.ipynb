{
 "cells": [
  {
   "cell_type": "markdown",
   "metadata": {},
   "source": [
    "# 문장 Count"
   ]
  },
  {
   "cell_type": "markdown",
   "metadata": {},
   "source": [
    "Data 상황\n",
    "- 특정 동일 문장 반복\n",
    "- 문장 속 숫자가 다름"
   ]
  },
  {
   "cell_type": "markdown",
   "metadata": {},
   "source": [
    "Code 구성\n",
    "- 숫자 제거 or 대체 (정규식 활용)\n",
    "- 문장 Count"
   ]
  },
  {
   "cell_type": "code",
   "execution_count": 1,
   "metadata": {},
   "outputs": [],
   "source": [
    "import re\n",
    "import pandas as pd"
   ]
  },
  {
   "cell_type": "markdown",
   "metadata": {},
   "source": [
    "원하는 문자를 뽑아내는 함수 구현"
   ]
  },
  {
   "cell_type": "code",
   "execution_count": 2,
   "metadata": {},
   "outputs": [],
   "source": [
    "# def only_str(x):\n",
    "#     '''문자만 반환'''\n",
    "#     pattern = r'[\\d+]' # 숫자만 찾는 패턴\n",
    "#     x = re.sub(pattern, '*', x) # x 문장 속 패턴을 찾아내어 '*'로 대체\n",
    "#     return x\n",
    "\n",
    "# def only_str(x):\n",
    "#     pattern = r'[^\\D]' \n",
    "#     x = re.sub(pattern, '*', x) \n",
    "#     return x\n",
    "\n",
    "# def only_str(x): # 숫자 제거\n",
    "#     pattern = r'[\\D]' \n",
    "#     x = re.findall(pattern, x)\n",
    "#     x = ''.join(x) # 리스트 요소 합치기\n",
    "#     return x\n",
    "\n",
    "def only_str(x):\n",
    "    '''문자만 반환'''\n",
    "    pattern = r'[\\d+]' # 숫자만 찾는 패턴\n",
    "    x = re.sub(pattern, '', x) # x 문장 속 패턴을 찾아내어 ''로 대체\n",
    "    return x"
   ]
  },
  {
   "cell_type": "code",
   "execution_count": 3,
   "metadata": {},
   "outputs": [
    {
     "data": {
      "text/plain": [
       "'abcdsad  asdqgasd bb'"
      ]
     },
     "execution_count": 3,
     "metadata": {},
     "output_type": "execute_result"
    }
   ],
   "source": [
    "sample = 'abcdsad21312 7814 asdqgasd 4856bb'\n",
    "only_str(sample)"
   ]
  },
  {
   "cell_type": "markdown",
   "metadata": {},
   "source": [
    "데이터 부르기"
   ]
  },
  {
   "cell_type": "code",
   "execution_count": 4,
   "metadata": {},
   "outputs": [
    {
     "data": {
      "text/html": [
       "<div>\n",
       "<style scoped>\n",
       "    .dataframe tbody tr th:only-of-type {\n",
       "        vertical-align: middle;\n",
       "    }\n",
       "\n",
       "    .dataframe tbody tr th {\n",
       "        vertical-align: top;\n",
       "    }\n",
       "\n",
       "    .dataframe thead th {\n",
       "        text-align: right;\n",
       "    }\n",
       "</style>\n",
       "<table border=\"1\" class=\"dataframe\">\n",
       "  <thead>\n",
       "    <tr style=\"text-align: right;\">\n",
       "      <th></th>\n",
       "      <th>pre_txt</th>\n",
       "    </tr>\n",
       "  </thead>\n",
       "  <tbody>\n",
       "    <tr>\n",
       "      <th>0</th>\n",
       "      <td>abcdsad21312 7814 asdqgasd 4856bb</td>\n",
       "    </tr>\n",
       "    <tr>\n",
       "      <th>1</th>\n",
       "      <td>sdfsdew312q 124562sad vbdfs5498 b1a64sa</td>\n",
       "    </tr>\n",
       "    <tr>\n",
       "      <th>2</th>\n",
       "      <td>ㅁㄴ123율74 ㄴ12312</td>\n",
       "    </tr>\n",
       "    <tr>\n",
       "      <th>3</th>\n",
       "      <td>abcd123sad 7814 asdqgasd 4856bb</td>\n",
       "    </tr>\n",
       "    <tr>\n",
       "      <th>4</th>\n",
       "      <td>1312ㅁ468ㄴ4ㅇㅁㄴ ㅁㄴ564ㄷ421</td>\n",
       "    </tr>\n",
       "  </tbody>\n",
       "</table>\n",
       "</div>"
      ],
      "text/plain": [
       "                                   pre_txt\n",
       "0        abcdsad21312 7814 asdqgasd 4856bb\n",
       "1  sdfsdew312q 124562sad vbdfs5498 b1a64sa\n",
       "2                          ㅁㄴ123율74 ㄴ12312\n",
       "3          abcd123sad 7814 asdqgasd 4856bb\n",
       "4                  1312ㅁ468ㄴ4ㅇㅁㄴ ㅁㄴ564ㄷ421"
      ]
     },
     "execution_count": 4,
     "metadata": {},
     "output_type": "execute_result"
    }
   ],
   "source": [
    "df = pd.read_csv('./sample.txt', header=None, names = ['pre_txt'])\n",
    "df.head()"
   ]
  },
  {
   "cell_type": "code",
   "execution_count": 5,
   "metadata": {},
   "outputs": [
    {
     "data": {
      "text/plain": [
       "(32, 1)"
      ]
     },
     "execution_count": 5,
     "metadata": {},
     "output_type": "execute_result"
    }
   ],
   "source": [
    "df.shape"
   ]
  },
  {
   "cell_type": "code",
   "execution_count": 6,
   "metadata": {},
   "outputs": [],
   "source": [
    "df['txt'] = df['pre_txt'].apply(lambda x: only_str(x))"
   ]
  },
  {
   "cell_type": "code",
   "execution_count": 7,
   "metadata": {},
   "outputs": [
    {
     "data": {
      "text/html": [
       "<div>\n",
       "<style scoped>\n",
       "    .dataframe tbody tr th:only-of-type {\n",
       "        vertical-align: middle;\n",
       "    }\n",
       "\n",
       "    .dataframe tbody tr th {\n",
       "        vertical-align: top;\n",
       "    }\n",
       "\n",
       "    .dataframe thead th {\n",
       "        text-align: right;\n",
       "    }\n",
       "</style>\n",
       "<table border=\"1\" class=\"dataframe\">\n",
       "  <thead>\n",
       "    <tr style=\"text-align: right;\">\n",
       "      <th></th>\n",
       "      <th>pre_txt</th>\n",
       "      <th>txt</th>\n",
       "    </tr>\n",
       "  </thead>\n",
       "  <tbody>\n",
       "    <tr>\n",
       "      <th>0</th>\n",
       "      <td>abcdsad21312 7814 asdqgasd 4856bb</td>\n",
       "      <td>abcdsad  asdqgasd bb</td>\n",
       "    </tr>\n",
       "    <tr>\n",
       "      <th>1</th>\n",
       "      <td>sdfsdew312q 124562sad vbdfs5498 b1a64sa</td>\n",
       "      <td>sdfsdewq sad vbdfs basa</td>\n",
       "    </tr>\n",
       "    <tr>\n",
       "      <th>2</th>\n",
       "      <td>ㅁㄴ123율74 ㄴ12312</td>\n",
       "      <td>ㅁㄴ율 ㄴ</td>\n",
       "    </tr>\n",
       "    <tr>\n",
       "      <th>3</th>\n",
       "      <td>abcd123sad 7814 asdqgasd 4856bb</td>\n",
       "      <td>abcdsad  asdqgasd bb</td>\n",
       "    </tr>\n",
       "    <tr>\n",
       "      <th>4</th>\n",
       "      <td>1312ㅁ468ㄴ4ㅇㅁㄴ ㅁㄴ564ㄷ421</td>\n",
       "      <td>ㅁㄴㅇㅁㄴ ㅁㄴㄷ</td>\n",
       "    </tr>\n",
       "  </tbody>\n",
       "</table>\n",
       "</div>"
      ],
      "text/plain": [
       "                                   pre_txt                      txt\n",
       "0        abcdsad21312 7814 asdqgasd 4856bb     abcdsad  asdqgasd bb\n",
       "1  sdfsdew312q 124562sad vbdfs5498 b1a64sa  sdfsdewq sad vbdfs basa\n",
       "2                          ㅁㄴ123율74 ㄴ12312                    ㅁㄴ율 ㄴ\n",
       "3          abcd123sad 7814 asdqgasd 4856bb     abcdsad  asdqgasd bb\n",
       "4                  1312ㅁ468ㄴ4ㅇㅁㄴ ㅁㄴ564ㄷ421                ㅁㄴㅇㅁㄴ ㅁㄴㄷ"
      ]
     },
     "execution_count": 7,
     "metadata": {},
     "output_type": "execute_result"
    }
   ],
   "source": [
    "df.head()"
   ]
  },
  {
   "cell_type": "code",
   "execution_count": 8,
   "metadata": {},
   "outputs": [
    {
     "data": {
      "text/plain": [
       "30"
      ]
     },
     "execution_count": 8,
     "metadata": {},
     "output_type": "execute_result"
    }
   ],
   "source": [
    "df['pre_txt'].nunique()"
   ]
  },
  {
   "cell_type": "code",
   "execution_count": 9,
   "metadata": {},
   "outputs": [
    {
     "data": {
      "text/plain": [
       "10"
      ]
     },
     "execution_count": 9,
     "metadata": {},
     "output_type": "execute_result"
    }
   ],
   "source": [
    "df['txt'].nunique()"
   ]
  },
  {
   "cell_type": "code",
   "execution_count": 10,
   "metadata": {},
   "outputs": [],
   "source": [
    "cnt = df.txt.value_counts(ascending = True) # 오름차순 정렬 #  ascending = True # 상대빈도 구하기 # (normailze = True)"
   ]
  },
  {
   "cell_type": "code",
   "execution_count": 11,
   "metadata": {},
   "outputs": [],
   "source": [
    "top5 = cnt[:5]"
   ]
  },
  {
   "cell_type": "code",
   "execution_count": 12,
   "metadata": {},
   "outputs": [
    {
     "data": {
      "text/plain": [
       "{'ㅁㄴ율 ㄴ': 1,\n",
       " 'ㅗㅈㄱㅁㄴㅇㅁㄴ ㅁㄴㄷ': 1,\n",
       " 'sdf ㄴㅁㄴㅇㅁㄴ ㅁㄴㄷ': 1,\n",
       " 'dqgasd bb': 1,\n",
       " 'ㅁㄴㅇㅁㄴ ㅁㄴㄷ': 2}"
      ]
     },
     "execution_count": 12,
     "metadata": {},
     "output_type": "execute_result"
    }
   ],
   "source": [
    "top5.to_dict()"
   ]
  },
  {
   "cell_type": "code",
   "execution_count": 13,
   "metadata": {},
   "outputs": [
    {
     "data": {
      "text/html": [
       "<div>\n",
       "<style scoped>\n",
       "    .dataframe tbody tr th:only-of-type {\n",
       "        vertical-align: middle;\n",
       "    }\n",
       "\n",
       "    .dataframe tbody tr th {\n",
       "        vertical-align: top;\n",
       "    }\n",
       "\n",
       "    .dataframe thead th {\n",
       "        text-align: right;\n",
       "    }\n",
       "</style>\n",
       "<table border=\"1\" class=\"dataframe\">\n",
       "  <thead>\n",
       "    <tr style=\"text-align: right;\">\n",
       "      <th></th>\n",
       "      <th>txt</th>\n",
       "    </tr>\n",
       "  </thead>\n",
       "  <tbody>\n",
       "    <tr>\n",
       "      <th>ㅁㄴ율 ㄴ</th>\n",
       "      <td>1</td>\n",
       "    </tr>\n",
       "    <tr>\n",
       "      <th>ㅗㅈㄱㅁㄴㅇㅁㄴ ㅁㄴㄷ</th>\n",
       "      <td>1</td>\n",
       "    </tr>\n",
       "    <tr>\n",
       "      <th>sdf ㄴㅁㄴㅇㅁㄴ ㅁㄴㄷ</th>\n",
       "      <td>1</td>\n",
       "    </tr>\n",
       "    <tr>\n",
       "      <th>dqgasd bb</th>\n",
       "      <td>1</td>\n",
       "    </tr>\n",
       "    <tr>\n",
       "      <th>ㅁㄴㅇㅁㄴ ㅁㄴㄷ</th>\n",
       "      <td>2</td>\n",
       "    </tr>\n",
       "  </tbody>\n",
       "</table>\n",
       "</div>"
      ],
      "text/plain": [
       "                txt\n",
       "ㅁㄴ율 ㄴ             1\n",
       "ㅗㅈㄱㅁㄴㅇㅁㄴ ㅁㄴㄷ      1\n",
       "sdf ㄴㅁㄴㅇㅁㄴ ㅁㄴㄷ    1\n",
       "dqgasd bb         1\n",
       "ㅁㄴㅇㅁㄴ ㅁㄴㄷ         2"
      ]
     },
     "execution_count": 13,
     "metadata": {},
     "output_type": "execute_result"
    }
   ],
   "source": [
    "top5.to_frame()"
   ]
  }
 ],
 "metadata": {
  "kernelspec": {
   "display_name": "Python 3.8.10 64-bit",
   "language": "python",
   "name": "python3"
  },
  "language_info": {
   "codemirror_mode": {
    "name": "ipython",
    "version": 3
   },
   "file_extension": ".py",
   "mimetype": "text/x-python",
   "name": "python",
   "nbconvert_exporter": "python",
   "pygments_lexer": "ipython3",
   "version": "3.8.10"
  },
  "orig_nbformat": 4,
  "vscode": {
   "interpreter": {
    "hash": "fb821ce427c8b11734795b2c1f6565122254a49e4cf8a1c4d5ac2838d443047e"
   }
  }
 },
 "nbformat": 4,
 "nbformat_minor": 2
}
